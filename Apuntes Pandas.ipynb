{
 "cells": [
  {
   "cell_type": "markdown",
   "metadata": {},
   "source": [
    "# Pandas\n",
    "Pandas es una librería de Python sumamente útil para la ciencia de datos. De acuerdo a la página oficial de la librería su objetivo es convertirse en el bloque fundamental para hacer análisis de datos."
   ]
  },
  {
   "cell_type": "markdown",
   "metadata": {},
   "source": [
    "Para empezar asegúrate de importar la librería con el comando de abajo"
   ]
  },
  {
   "cell_type": "code",
   "execution_count": 5,
   "metadata": {},
   "outputs": [],
   "source": [
    "#Imprtamos la librería Pandas\n",
    "import pandas as pd\n",
    "\n",
    "#Importamos la librería Numpy\n",
    "import numpy as np"
   ]
  },
  {
   "cell_type": "markdown",
   "metadata": {},
   "source": [
    "Para empezar el primer comando que aprenderemos te puede resultar bastante útil, se trata del comando 'help' y con este podrás hallar una breve explicación de los comandos que necesites incluso puede que vengan con ejemplos, un valioso detalle para aprender todo de esta librería.\n",
    "\n",
    "* <font color=\"SlateBlue\">****help(pd.Comando)***</font>\n",
    "\n",
    "Veamos un ejemplo con 'Series'"
   ]
  },
  {
   "cell_type": "code",
   "execution_count": 3,
   "metadata": {},
   "outputs": [
    {
     "name": "stdout",
     "output_type": "stream",
     "text": [
      "Help on property:\n",
      "\n",
      "    Purely integer-location based indexing for selection by position.\n",
      "    \n",
      "    ``.iloc[]`` is primarily integer position based (from ``0`` to\n",
      "    ``length-1`` of the axis), but may also be used with a boolean\n",
      "    array.\n",
      "    \n",
      "    Allowed inputs are:\n",
      "    \n",
      "    - An integer, e.g. ``5``.\n",
      "    - A list or array of integers, e.g. ``[4, 3, 0]``.\n",
      "    - A slice object with ints, e.g. ``1:7``.\n",
      "    - A boolean array.\n",
      "    - A ``callable`` function with one argument (the calling Series or\n",
      "      DataFrame) and that returns valid output for indexing (one of the above).\n",
      "      This is useful in method chains, when you don't have a reference to the\n",
      "      calling object, but would like to base your selection on some value.\n",
      "    - A tuple of row and column indexes. The tuple elements consist of one of the\n",
      "      above inputs, e.g. ``(0, 1)``.\n",
      "    \n",
      "    ``.iloc`` will raise ``IndexError`` if a requested indexer is\n",
      "    out-of-bounds, except *slice* indexers which allow out-of-bounds\n",
      "    indexing (this conforms with python/numpy *slice* semantics).\n",
      "    \n",
      "    See more at :ref:`Selection by Position <indexing.integer>`.\n",
      "    \n",
      "    See Also\n",
      "    --------\n",
      "    DataFrame.iat : Fast integer location scalar accessor.\n",
      "    DataFrame.loc : Purely label-location based indexer for selection by label.\n",
      "    Series.iloc : Purely integer-location based indexing for\n",
      "                   selection by position.\n",
      "    \n",
      "    Examples\n",
      "    --------\n",
      "    >>> mydict = [{'a': 1, 'b': 2, 'c': 3, 'd': 4},\n",
      "    ...           {'a': 100, 'b': 200, 'c': 300, 'd': 400},\n",
      "    ...           {'a': 1000, 'b': 2000, 'c': 3000, 'd': 4000 }]\n",
      "    >>> df = pd.DataFrame(mydict)\n",
      "    >>> df\n",
      "          a     b     c     d\n",
      "    0     1     2     3     4\n",
      "    1   100   200   300   400\n",
      "    2  1000  2000  3000  4000\n",
      "    \n",
      "    **Indexing just the rows**\n",
      "    \n",
      "    With a scalar integer.\n",
      "    \n",
      "    >>> type(df.iloc[0])\n",
      "    <class 'pandas.core.series.Series'>\n",
      "    >>> df.iloc[0]\n",
      "    a    1\n",
      "    b    2\n",
      "    c    3\n",
      "    d    4\n",
      "    Name: 0, dtype: int64\n",
      "    \n",
      "    With a list of integers.\n",
      "    \n",
      "    >>> df.iloc[[0]]\n",
      "       a  b  c  d\n",
      "    0  1  2  3  4\n",
      "    >>> type(df.iloc[[0]])\n",
      "    <class 'pandas.core.frame.DataFrame'>\n",
      "    \n",
      "    >>> df.iloc[[0, 1]]\n",
      "         a    b    c    d\n",
      "    0    1    2    3    4\n",
      "    1  100  200  300  400\n",
      "    \n",
      "    With a `slice` object.\n",
      "    \n",
      "    >>> df.iloc[:3]\n",
      "          a     b     c     d\n",
      "    0     1     2     3     4\n",
      "    1   100   200   300   400\n",
      "    2  1000  2000  3000  4000\n",
      "    \n",
      "    With a boolean mask the same length as the index.\n",
      "    \n",
      "    >>> df.iloc[[True, False, True]]\n",
      "          a     b     c     d\n",
      "    0     1     2     3     4\n",
      "    2  1000  2000  3000  4000\n",
      "    \n",
      "    With a callable, useful in method chains. The `x` passed\n",
      "    to the ``lambda`` is the DataFrame being sliced. This selects\n",
      "    the rows whose index label even.\n",
      "    \n",
      "    >>> df.iloc[lambda x: x.index % 2 == 0]\n",
      "          a     b     c     d\n",
      "    0     1     2     3     4\n",
      "    2  1000  2000  3000  4000\n",
      "    \n",
      "    **Indexing both axes**\n",
      "    \n",
      "    You can mix the indexer types for the index and columns. Use ``:`` to\n",
      "    select the entire axis.\n",
      "    \n",
      "    With scalar integers.\n",
      "    \n",
      "    >>> df.iloc[0, 1]\n",
      "    2\n",
      "    \n",
      "    With lists of integers.\n",
      "    \n",
      "    >>> df.iloc[[0, 2], [1, 3]]\n",
      "          b     d\n",
      "    0     2     4\n",
      "    2  2000  4000\n",
      "    \n",
      "    With `slice` objects.\n",
      "    \n",
      "    >>> df.iloc[1:3, 0:3]\n",
      "          a     b     c\n",
      "    1   100   200   300\n",
      "    2  1000  2000  3000\n",
      "    \n",
      "    With a boolean array whose length matches the columns.\n",
      "    \n",
      "    >>> df.iloc[:, [True, False, True, False]]\n",
      "          a     c\n",
      "    0     1     3\n",
      "    1   100   300\n",
      "    2  1000  3000\n",
      "    \n",
      "    With a callable function that expects the Series or DataFrame.\n",
      "    \n",
      "    >>> df.iloc[:, lambda df: [0, 2]]\n",
      "          a     c\n",
      "    0     1     3\n",
      "    1   100   300\n",
      "    2  1000  3000\n",
      "\n"
     ]
    }
   ],
   "source": [
    "help(pd.Series.iloc)"
   ]
  },
  {
   "cell_type": "markdown",
   "metadata": {},
   "source": [
    "## Series\n",
    "La primera parte de este curso se concentrará en las series. Las Series en Pandas, de la manera más sencilla es un ndarray unidimensional con etiquetas para sus ejes. Es importante mencionar que las series pueden contener cualquier tipo de dato soportado por NumPy, además para la información faltante se usa el valor NaN y al momento de operar dos series de Pandas se alinean usando el index de los valores de la serie.\n",
    "\n",
    "Con el siguiente comando puedes convertir una lista, un ndarray o un diccionario en una serie de Pandas.\n",
    "\n",
    "* <font color=\"SlateBlue\">****pd.Series(data, index=index)***</font>: data puede ser un diccionario, un ndarray o una lista, incluso un escalar sencillo. Veamos un ejemplo a continuación"
   ]
  },
  {
   "cell_type": "code",
   "execution_count": 7,
   "metadata": {},
   "outputs": [
    {
     "data": {
      "text/plain": [
       "a    0.434163\n",
       "b   -0.280192\n",
       "c   -2.291818\n",
       "d   -0.429737\n",
       "e    0.794070\n",
       "dtype: float64"
      ]
     },
     "execution_count": 7,
     "metadata": {},
     "output_type": "execute_result"
    }
   ],
   "source": [
    "s = pd.Series(np.random.randn(5), index=['a', 'b', 'c', 'd', 'e'])\n",
    "s"
   ]
  },
  {
   "cell_type": "code",
   "execution_count": null,
   "metadata": {},
   "outputs": [],
   "source": []
  }
 ],
 "metadata": {
  "kernelspec": {
   "display_name": "Python 3",
   "language": "python",
   "name": "python3"
  },
  "language_info": {
   "codemirror_mode": {
    "name": "ipython",
    "version": 3
   },
   "file_extension": ".py",
   "mimetype": "text/x-python",
   "name": "python",
   "nbconvert_exporter": "python",
   "pygments_lexer": "ipython3",
   "version": "3.11.6"
  },
  "orig_nbformat": 4
 },
 "nbformat": 4,
 "nbformat_minor": 2
}
